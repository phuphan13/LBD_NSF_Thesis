{
  "nbformat": 4,
  "nbformat_minor": 0,
  "metadata": {
    "colab": {
      "provenance": []
    },
    "kernelspec": {
      "name": "python3",
      "display_name": "Python 3"
    },
    "language_info": {
      "name": "python"
    }
  },
  "cells": [
    {
      "cell_type": "markdown",
      "source": [
        "Create and visualize a networkx graph\n",
        "\n",
        "Calculate the clustering coeff for each nodes, and the average clustering coeff for each of the cluster. If any cluster with avg clustering coeff 1 (complete subgraph) or 0 (only 2 nodes), they will be removed since there is no link between these cluster with the rest ones (probably not helpful)"
      ],
      "metadata": {
        "id": "Gm0rS06F6e3_"
      }
    },
    {
      "cell_type": "code",
      "source": [
        "import networkx as nx\n",
        "import numpy as np\n",
        "import matplotlib.pyplot as plt"
      ],
      "metadata": {
        "id": "iO08UBS96crb"
      },
      "execution_count": 1,
      "outputs": []
    },
    {
      "cell_type": "code",
      "source": [
        "G = nx.Graph()\n",
        "G.add_edges_from([[1,2],[2,3],[1,3],[1,4],[1,5],[3,5],\n",
        "                  [6,7],[7,8],[8,9],[6,9],[6,9],[7,9],\n",
        "                  [10,11],[11,12],[10,12],[9,12],[2,7]\n",
        "                  ,[13,14],[13,15],[14,15],[16,17]])\n",
        "nx.draw(G,with_labels=True,node_color='r')"
      ],
      "metadata": {
        "colab": {
          "base_uri": "https://localhost:8080/",
          "height": 319
        },
        "id": "RztjOFQraz1K",
        "outputId": "6e95598e-d89c-4edf-a9a3-d73fdaee5bd0"
      },
      "execution_count": 2,
      "outputs": [
        {
          "output_type": "display_data",
          "data": {
            "text/plain": [
              "<Figure size 432x288 with 1 Axes>"
            ],
            "image/png": "[encoded data removed]"
          },
          "metadata": {}
        }
      ]
    },
    {
      "cell_type": "code",
      "source": [
        "#clustering coefficient for each nodes\n",
        "nx.clustering(G)"
      ],
      "metadata": {
        "colab": {
          "base_uri": "https://localhost:8080/"
        },
        "id": "Jwnee0QAOb8O",
        "outputId": "c2ba4ab2-b7c8-4d1f-89d1-6b98b262468a"
      },
      "execution_count": 3,
      "outputs": [
        {
          "output_type": "execute_result",
          "data": {
            "text/plain": [
              "{1: 0.3333333333333333,\n",
              " 2: 0.3333333333333333,\n",
              " 3: 0.6666666666666666,\n",
              " 4: 0,\n",
              " 5: 1.0,\n",
              " 6: 1.0,\n",
              " 7: 0.3333333333333333,\n",
              " 8: 1.0,\n",
              " 9: 0.3333333333333333,\n",
              " 10: 1.0,\n",
              " 11: 1.0,\n",
              " 12: 0.3333333333333333,\n",
              " 13: 1.0,\n",
              " 14: 1.0,\n",
              " 15: 1.0,\n",
              " 16: 0,\n",
              " 17: 0}"
            ]
          },
          "metadata": {},
          "execution_count": 3
        }
      ]
    },
    {
      "cell_type": "code",
      "source": [
        "#calculate the betweeness centrality (just for alternative way)\n",
        "edge_betweenness = nx.edge_betweenness_centrality(G).items()\n",
        "sorted(edge_betweenness,key=lambda pair:-pair[1])"
      ],
      "metadata": {
        "colab": {
          "base_uri": "https://localhost:8080/"
        },
        "id": "YM4O9hbYsfob",
        "outputId": "41a7ea1e-538a-4297-de95-f706c00f1c2c"
      },
      "execution_count": 4,
      "outputs": [
        {
          "output_type": "execute_result",
          "data": {
            "text/plain": [
              "[((2, 7), 0.25735294117647056),\n",
              " ((9, 12), 0.19852941176470587),\n",
              " ((7, 9), 0.1764705882352941),\n",
              " ((1, 2), 0.14705882352941177),\n",
              " ((2, 3), 0.08823529411764705),\n",
              " ((1, 4), 0.08088235294117647),\n",
              " ((10, 12), 0.07352941176470588),\n",
              " ((11, 12), 0.07352941176470588),\n",
              " ((6, 7), 0.04779411764705882),\n",
              " ((7, 8), 0.04779411764705882),\n",
              " ((1, 5), 0.044117647058823525),\n",
              " ((3, 5), 0.03676470588235294),\n",
              " ((6, 9), 0.03308823529411765),\n",
              " ((8, 9), 0.03308823529411765),\n",
              " ((1, 3), 0.014705882352941176),\n",
              " ((10, 11), 0.007352941176470588),\n",
              " ((13, 14), 0.007352941176470588),\n",
              " ((13, 15), 0.007352941176470588),\n",
              " ((14, 15), 0.007352941176470588),\n",
              " ((16, 17), 0.007352941176470588)]"
            ]
          },
          "metadata": {},
          "execution_count": 4
        }
      ]
    },
    {
      "cell_type": "code",
      "source": [
        "import numpy as np\n",
        "import community.community_louvain as community_louvain\n",
        "\n",
        "comms = community_louvain.best_partition(G) \n",
        "comms_count = np.unique(list(comms.values())) #number of communities\n",
        "\n",
        "for k in range(0,len(comms_count)):\n",
        "  nodes = [i for i, j in comms.items() if j ==k] #get all the nodes from a cluster\n",
        "  avg_coeff=nx.average_clustering(G,nodes)  #calculate avg clustering coeff\n",
        "  print('Cluster ',k,': ',nodes,': avg_coeff %2f.' %avg_coeff)\n",
        "  if avg_coeff==1 or avg_coeff ==0:\n",
        "    print('->Remove cluster %f'%k)\n",
        "    G.remove_nodes_from(nodes)\n",
        "  "
      ],
      "metadata": {
        "colab": {
          "base_uri": "https://localhost:8080/"
        },
        "id": "DJvwjQvDQfbL",
        "outputId": "c624e884-7854-440e-c7a9-9b7c57fa5920"
      },
      "execution_count": 5,
      "outputs": [
        {
          "output_type": "stream",
          "name": "stdout",
          "text": [
            "Cluster  0 :  [16, 17] : avg_coeff 0.000000.\n",
            "->Remove cluster 0.000000\n",
            "Cluster  1 :  [10, 11, 12] : avg_coeff 0.777778.\n",
            "Cluster  2 :  [6, 7, 8, 9] : avg_coeff 0.666667.\n",
            "Cluster  3 :  [13, 14, 15] : avg_coeff 1.000000.\n",
            "->Remove cluster 3.000000\n",
            "Cluster  4 :  [1, 2, 3, 4, 5] : avg_coeff 0.466667.\n"
          ]
        }
      ]
    },
    {
      "cell_type": "code",
      "source": [
        "nx.draw(G,with_labels=True,node_color='r')"
      ],
      "metadata": {
        "colab": {
          "base_uri": "https://localhost:8080/",
          "height": 319
        },
        "id": "CBaI_ioQYGdJ",
        "outputId": "d2b166e5-308e-419d-e2fb-23ba4e56c6ed"
      },
      "execution_count": 6,
      "outputs": [
        {
          "output_type": "display_data",
          "data": {
            "text/plain": [
              "<Figure size 432x288 with 1 Axes>"
            ],
            "image/png": "[encoded data removed]"
          },
          "metadata": {}
        }
      ]
    },
    {
      "cell_type": "code",
      "source": [],
      "metadata": {
        "id": "KlphzlZ2ym-H"
      },
      "execution_count": null,
      "outputs": []
    }
  ]
}