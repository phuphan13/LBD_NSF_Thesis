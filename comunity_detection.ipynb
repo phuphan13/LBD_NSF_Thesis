{
  "nbformat": 4,
  "nbformat_minor": 0,
  "metadata": {
    "colab": {
      "provenance": []
    },
    "kernelspec": {
      "name": "python3",
      "display_name": "Python 3"
    },
    "language_info": {
      "name": "python"
    }
  },
  "cells": [
    {
      "cell_type": "code",
      "execution_count": 1,
      "metadata": {
        "id": "HsJ4sBS5am_O"
      },
      "outputs": [],
      "source": [
        "import networkx as nx\n",
        "import numpy as np\n",
        "import matplotlib.pyplot as plt"
      ]
    },
    {
      "cell_type": "code",
      "source": [
        "G = nx.Graph()\n",
        "G.add_edges_from([[1,2],[2,3],[1,3],[1,4],[1,5],[3,5],\n",
        "                  [6,7],[7,8],[8,9],[6,9],[6,9],[7,9],\n",
        "                  [10,11],[11,12],[10,12],[9,12],[2,7]\n",
        "                  ,[13,14],[13,15],[14,15],[16,17]])\n",
        "nx.draw(G,with_labels=True,node_color='r')"
      ],
      "metadata": {
        "colab": {
          "base_uri": "https://localhost:8080/",
          "height": 319
        },
        "id": "RztjOFQraz1K",
        "outputId": "7ade4e17-ff96-4d80-ec6c-abf1c5c77fa4"
      },
      "execution_count": 56,
      "outputs": [
        {
          "output_type": "display_data",
          "data": {
            "text/plain": [
              "<Figure size 432x288 with 1 Axes>"
            ],
            "image/png": "[encoded data removed]"
          },
          "metadata": {}
        }
      ]
    },
    {
      "cell_type": "markdown",
      "source": [
        "Nv: number of links betwen neighbour of v\n",
        "Kv: degree of v\n",
        "clustering coefficient (v) = 2*Nv / Kv *(Kv-1)\n",
        "K17 = 1\n",
        "N17 = 0\n",
        "CC(17) = 2 * N17 /K17*(K17-1) = 2 * 0 /1(1-"
      ],
      "metadata": {
        "id": "sHrh_kfi5BWB"
      }
    },
    {
      "cell_type": "code",
      "source": [
        "#clustering coefficient for each nodes\n",
        "nx.clustering(G)"
      ],
      "metadata": {
        "colab": {
          "base_uri": "https://localhost:8080/"
        },
        "id": "Jwnee0QAOb8O",
        "outputId": "afd4dc3b-601c-4519-e5d7-a429bde47629"
      },
      "execution_count": 57,
      "outputs": [
        {
          "output_type": "execute_result",
          "data": {
            "text/plain": [
              "{1: 0.3333333333333333,\n",
              " 2: 0.3333333333333333,\n",
              " 3: 0.6666666666666666,\n",
              " 4: 0,\n",
              " 5: 1.0,\n",
              " 6: 1.0,\n",
              " 7: 0.3333333333333333,\n",
              " 8: 1.0,\n",
              " 9: 0.3333333333333333,\n",
              " 10: 1.0,\n",
              " 11: 1.0,\n",
              " 12: 0.3333333333333333,\n",
              " 13: 1.0,\n",
              " 14: 1.0,\n",
              " 15: 1.0,\n",
              " 16: 0,\n",
              " 17: 0}"
            ]
          },
          "metadata": {},
          "execution_count": 57
        }
      ]
    },
    {
      "cell_type": "code",
      "source": [
        "#Calculating the betweeness centrality\n",
        "edge_betweenness = nx.edge_betweenness_centrality(G).items()\n",
        "sorted(edge_betweenness,key=lambda pair:-pair[1])"
      ],
      "metadata": {
        "colab": {
          "base_uri": "https://localhost:8080/"
        },
        "id": "YM4O9hbYsfob",
        "outputId": "3e850a87-809e-4780-b86a-e765709d332c"
      },
      "execution_count": 54,
      "outputs": [
        {
          "output_type": "execute_result",
          "data": {
            "text/plain": [
              "[((2, 7), 0.33333333333333337),\n",
              " ((9, 12), 0.2571428571428572),\n",
              " ((7, 9), 0.2285714285714286),\n",
              " ((1, 2), 0.1904761904761905),\n",
              " ((2, 3), 0.1142857142857143),\n",
              " ((1, 4), 0.10476190476190478),\n",
              " ((10, 12), 0.09523809523809525),\n",
              " ((11, 12), 0.09523809523809525),\n",
              " ((6, 7), 0.06190476190476191),\n",
              " ((7, 8), 0.06190476190476191),\n",
              " ((1, 5), 0.05714285714285715),\n",
              " ((3, 5), 0.04761904761904762),\n",
              " ((6, 9), 0.04285714285714286),\n",
              " ((8, 9), 0.04285714285714286),\n",
              " ((1, 3), 0.01904761904761905),\n",
              " ((10, 11), 0.009523809523809525),\n",
              " ((13, 14), 0.009523809523809525),\n",
              " ((13, 15), 0.009523809523809525),\n",
              " ((14, 15), 0.009523809523809525)]"
            ]
          },
          "metadata": {},
          "execution_count": 54
        }
      ]
    },
    {
      "cell_type": "code",
      "source": [
        "import numpy as np\n",
        "import community.community_louvain as community_louvain\n",
        "\n",
        "comms = community_louvain.best_partition(G)\n",
        "unique_comms = np.unique(list(comms.values()))\n",
        "\n",
        "for k in range(0,len(unique_comms)):\n",
        "  nodes = [i for i, j in comms.items() if j ==k] #get all the nodes from a cluster\n",
        "  avg_coeff=nx.average_clustering(G,nodes)  #calculate avg clustering coeff\n",
        "  print('Cluster ',k,': ',nodes,': avg_coeff %2f.' %avg_coeff)\n",
        "  if avg_coeff==1 or avg_coeff ==0:\n",
        "    print('->Remove cluster %f'%k)\n",
        "    G.remove_nodes_from(nodes)\n",
        "  "
      ],
      "metadata": {
        "colab": {
          "base_uri": "https://localhost:8080/"
        },
        "id": "DJvwjQvDQfbL",
        "outputId": "31f811b0-b49e-4d98-c427-74d987301d9f"
      },
      "execution_count": 55,
      "outputs": [
        {
          "output_type": "stream",
          "name": "stdout",
          "text": [
            "Cluster  0 :  [1, 2, 3, 4, 5] : avg_coeff 0.466667.\n",
            "Cluster  1 :  [6, 7, 8, 9] : avg_coeff 0.666667.\n",
            "Cluster  2 :  [10, 11, 12] : avg_coeff 0.777778.\n",
            "Cluster  3 :  [13, 14, 15] : avg_coeff 1.000000.\n",
            "->Remove cluster 3.000000\n"
          ]
        }
      ]
    },
    {
      "cell_type": "code",
      "source": [
        "nx.draw(G,with_labels=True,node_color='r')"
      ],
      "metadata": {
        "colab": {
          "base_uri": "https://localhost:8080/",
          "height": 319
        },
        "id": "CBaI_ioQYGdJ",
        "outputId": "eaa754b5-6281-4036-87be-f7209dacf1cc"
      },
      "execution_count": 49,
      "outputs": [
        {
          "output_type": "display_data",
          "data": {
            "text/plain": [
              "<Figure size 432x288 with 1 Axes>"
            ],
            "image/png": "[encoded data removed]"
          },
          "metadata": {}
        }
      ]
    }
  ]
}